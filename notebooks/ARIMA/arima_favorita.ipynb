{
 "cells": [
  {
   "cell_type": "code",
   "execution_count": null,
   "id": "f1b31aa5",
   "metadata": {},
   "outputs": [],
   "source": [
    "import pandas as pd\n",
    "import numpy as np"
   ]
  },
  {
   "cell_type": "markdown",
   "id": "90830fd8",
   "metadata": {},
   "source": [
    "## Check if timeseries is stationary"
   ]
  },
  {
   "cell_type": "code",
   "execution_count": null,
   "id": "f9aff5e3",
   "metadata": {},
   "outputs": [],
   "source": [
    "# "
   ]
  }
 ],
 "metadata": {
  "kernelspec": {
   "display_name": "Python (default_venv)",
   "language": "python",
   "name": "default_venv"
  },
  "language_info": {
   "name": "python",
   "version": "3.9.13"
  }
 },
 "nbformat": 4,
 "nbformat_minor": 5
}
